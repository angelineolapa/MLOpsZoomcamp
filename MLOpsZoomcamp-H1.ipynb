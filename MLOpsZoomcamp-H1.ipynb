{
 "cells": [
  {
   "cell_type": "markdown",
   "id": "78c1da2b-1251-49fb-bdc0-d4ca6464fbe6",
   "metadata": {},
   "source": [
    "# MLOps Zoomcamp - Homework 1"
   ]
  },
  {
   "cell_type": "markdown",
   "id": "21de81b2-777c-45e7-94bd-7f76dea1a990",
   "metadata": {},
   "source": [
    "## Question 1"
   ]
  },
  {
   "cell_type": "code",
   "execution_count": 1,
   "id": "3f168b18-3336-4fc7-814d-2faef5e31a56",
   "metadata": {},
   "outputs": [],
   "source": [
    "#Import libraries\n",
    "import pandas as pd\n",
    "\n",
    "from sklearn.feature_extraction import DictVectorizer\n",
    "from sklearn.linear_model import LinearRegression\n",
    "from sklearn.metrics import mean_squared_error"
   ]
  },
  {
   "cell_type": "code",
   "execution_count": 2,
   "id": "f46beef7-6ec8-41a1-a132-e6aea5839861",
   "metadata": {},
   "outputs": [],
   "source": [
    "#Read parquet files into DFs\n",
    "df_01 = pd.read_parquet(\"data/yellow_tripdata_2022-01.parquet\")\n",
    "df_02 = pd.read_parquet(\"data/yellow_tripdata_2022-02.parquet\")"
   ]
  },
  {
   "cell_type": "code",
   "execution_count": 3,
   "id": "ef9980de-57a7-4e5b-b309-191640ce3f52",
   "metadata": {},
   "outputs": [
    {
     "name": "stdout",
     "output_type": "stream",
     "text": [
      "<class 'pandas.core.frame.DataFrame'>\n",
      "RangeIndex: 2463931 entries, 0 to 2463930\n",
      "Data columns (total 19 columns):\n",
      " #   Column                 Dtype         \n",
      "---  ------                 -----         \n",
      " 0   VendorID               int64         \n",
      " 1   tpep_pickup_datetime   datetime64[ns]\n",
      " 2   tpep_dropoff_datetime  datetime64[ns]\n",
      " 3   passenger_count        float64       \n",
      " 4   trip_distance          float64       \n",
      " 5   RatecodeID             float64       \n",
      " 6   store_and_fwd_flag     object        \n",
      " 7   PULocationID           int64         \n",
      " 8   DOLocationID           int64         \n",
      " 9   payment_type           int64         \n",
      " 10  fare_amount            float64       \n",
      " 11  extra                  float64       \n",
      " 12  mta_tax                float64       \n",
      " 13  tip_amount             float64       \n",
      " 14  tolls_amount           float64       \n",
      " 15  improvement_surcharge  float64       \n",
      " 16  total_amount           float64       \n",
      " 17  congestion_surcharge   float64       \n",
      " 18  airport_fee            float64       \n",
      "dtypes: datetime64[ns](2), float64(12), int64(4), object(1)\n",
      "memory usage: 357.2+ MB\n"
     ]
    }
   ],
   "source": [
    "#Inspect DFs\n",
    "df_01.info()"
   ]
  },
  {
   "cell_type": "code",
   "execution_count": 4,
   "id": "de57b862-9d0f-497e-8eeb-44b1f8a3beec",
   "metadata": {},
   "outputs": [
    {
     "data": {
      "text/plain": [
       "(2463931, 19)"
      ]
     },
     "execution_count": 4,
     "metadata": {},
     "output_type": "execute_result"
    }
   ],
   "source": [
    "#Number of columns\n",
    "df_01.shape"
   ]
  },
  {
   "cell_type": "markdown",
   "id": "385f0c54-0447-416a-b418-967232b41ebd",
   "metadata": {},
   "source": [
    "## Question 2"
   ]
  },
  {
   "cell_type": "code",
   "execution_count": 5,
   "id": "35271daf-070b-4be4-b6e1-d5b9f7482166",
   "metadata": {},
   "outputs": [],
   "source": [
    "#Compute duration variable for the two DFs\n",
    "df_01 = df_01.assign(duration=df_01[\"tpep_dropoff_datetime\"]-df_01[\"tpep_pickup_datetime\"])\n",
    "df_02 = df_02.assign(duration=df_02[\"tpep_dropoff_datetime\"]-df_02[\"tpep_pickup_datetime\"])"
   ]
  },
  {
   "cell_type": "code",
   "execution_count": 6,
   "id": "b9d3f626-f28a-4116-a4f0-df5609f4b7a9",
   "metadata": {},
   "outputs": [],
   "source": [
    "#Adjust duration units to minutes\n",
    "df_01.duration = df_01.duration.apply(lambda td: td.total_seconds() / 60)\n",
    "df_02.duration = df_02.duration.apply(lambda td: td.total_seconds() / 60)"
   ]
  },
  {
   "cell_type": "code",
   "execution_count": 7,
   "id": "5f61d044-cb67-4ab6-9200-bc869553e2e7",
   "metadata": {},
   "outputs": [
    {
     "data": {
      "text/plain": [
       "46.44530513776499"
      ]
     },
     "execution_count": 7,
     "metadata": {},
     "output_type": "execute_result"
    }
   ],
   "source": [
    "#Calculate std of duration in Jan\n",
    "df_01.duration.std()"
   ]
  },
  {
   "cell_type": "markdown",
   "id": "e4b83b39-4298-41e5-b6e9-a158ee4d1e39",
   "metadata": {},
   "source": [
    "## Question 3"
   ]
  },
  {
   "cell_type": "code",
   "execution_count": 8,
   "id": "c42201c6-1a57-436e-8fcc-1dcf073ed1e8",
   "metadata": {},
   "outputs": [
    {
     "data": {
      "text/plain": [
       "98.27547930522405"
      ]
     },
     "execution_count": 8,
     "metadata": {},
     "output_type": "execute_result"
    }
   ],
   "source": [
    "#Count percentage of duration outliers\n",
    "outliers_p = (df_01[(df_01[\"duration\"]>=1) & (df_01[\"duration\"]<=60)][\"duration\"].count()/df_01[\"duration\"].count())*100\n",
    "outliers_p"
   ]
  },
  {
   "cell_type": "code",
   "execution_count": 9,
   "id": "30683156-e90c-4a96-97c3-a15142f2b345",
   "metadata": {},
   "outputs": [
    {
     "data": {
      "text/plain": [
       "(2421440, 20)"
      ]
     },
     "execution_count": 9,
     "metadata": {},
     "output_type": "execute_result"
    }
   ],
   "source": [
    "#Remove outliers\n",
    "df_01_no_outliers = df_01[(df_01[\"duration\"]>=1) & (df_01[\"duration\"]<=60)]\n",
    "df_01_no_outliers.shape"
   ]
  },
  {
   "cell_type": "markdown",
   "id": "582bd8f5-83c8-4dce-a69a-552c5ee607e6",
   "metadata": {},
   "source": [
    "## Question 4"
   ]
  },
  {
   "cell_type": "code",
   "execution_count": 10,
   "id": "84f72df6-3b64-4dbd-89f6-d9a88acdf2e6",
   "metadata": {},
   "outputs": [
    {
     "name": "stdout",
     "output_type": "stream",
     "text": [
      "<class 'pandas.core.frame.DataFrame'>\n",
      "Index: 2421440 entries, 0 to 2463930\n",
      "Data columns (total 2 columns):\n",
      " #   Column        Dtype \n",
      "---  ------        ----- \n",
      " 0   PULocationID  object\n",
      " 1   DOLocationID  object\n",
      "dtypes: object(2)\n",
      "memory usage: 55.4+ MB\n"
     ]
    }
   ],
   "source": [
    "#Cast cat variables as string\n",
    "categorical = ['PULocationID', 'DOLocationID']\n",
    "df_train = df_01_no_outliers[categorical].astype(str)\n",
    "df_train.info()"
   ]
  },
  {
   "cell_type": "code",
   "execution_count": 11,
   "id": "ee9154ae-f5f2-4e86-8a74-b8050f08a4df",
   "metadata": {},
   "outputs": [
    {
     "data": {
      "text/plain": [
       "(2421440, 515)"
      ]
     },
     "execution_count": 11,
     "metadata": {},
     "output_type": "execute_result"
    }
   ],
   "source": [
    "#Create feature dictionary\n",
    "train_dicts = df_train.to_dict(orient='records')\n",
    "\n",
    "#Apply one-hot encoding to create feature matrix\n",
    "dv = DictVectorizer()\n",
    "X_train = dv.fit_transform(train_dicts)\n",
    "\n",
    "X_train.shape"
   ]
  },
  {
   "cell_type": "markdown",
   "id": "95da7db3-6ae6-4365-9cc4-e44ccdcb31ef",
   "metadata": {},
   "source": [
    "## Question 5"
   ]
  },
  {
   "cell_type": "code",
   "execution_count": 12,
   "id": "467c895b-1531-42ad-92de-d516148a90b4",
   "metadata": {},
   "outputs": [
    {
     "name": "stdout",
     "output_type": "stream",
     "text": [
      "Root Mean Squared Error: 6.98619123059128\n"
     ]
    }
   ],
   "source": [
    "target = \"duration\"\n",
    "y_train = df_01_no_outliers[target].values\n",
    "\n",
    "lr = LinearRegression()\n",
    "lr.fit(X_train, y_train)\n",
    "\n",
    "y_pred = lr.predict(X_train)\n",
    "\n",
    "print(\"Root Mean Squared Error:\", mean_squared_error(y_train, y_pred, squared=False))"
   ]
  },
  {
   "cell_type": "markdown",
   "id": "4f4cabb5-02cb-4ab9-9130-98794dcc600d",
   "metadata": {},
   "source": [
    "## Question 6"
   ]
  },
  {
   "cell_type": "code",
   "execution_count": 13,
   "id": "9b856232-a70f-40d3-bb01-4cce1802cd47",
   "metadata": {},
   "outputs": [
    {
     "data": {
      "text/plain": [
       "(2918187, 2)"
      ]
     },
     "execution_count": 13,
     "metadata": {},
     "output_type": "execute_result"
    }
   ],
   "source": [
    "#Remove outliers\n",
    "df_02_no_outliers = df_02[(df_02[\"duration\"]>=1) & (df_02[\"duration\"]<=60)]\n",
    "df_val = df_02_no_outliers[categorical].astype(str)\n",
    "df_val.shape"
   ]
  },
  {
   "cell_type": "code",
   "execution_count": 14,
   "id": "fda9c095-2425-4504-b8f6-f33f581cbbb7",
   "metadata": {},
   "outputs": [],
   "source": [
    "#Create feature dictionary\n",
    "val_dicts = df_val.to_dict(orient='records')\n",
    "\n",
    "#Apply one-hot encoding to create feature matrix\n",
    "X_val = dv.fit_transform(val_dicts)"
   ]
  },
  {
   "cell_type": "code",
   "execution_count": null,
   "id": "37bfa4b9-7151-4b3b-993d-11687b6c563b",
   "metadata": {},
   "outputs": [],
   "source": [
    "y_val = df_02_no_outliers[target].values\n",
    "\n",
    "lr.fit(X_val, y_val)\n",
    "\n",
    "y_pred = lr.predict(X_val)\n",
    "\n",
    "print(\"Root Mean Squared Error:\", mean_squared_error(y_val, y_pred, squared=False))"
   ]
  }
 ],
 "metadata": {
  "kernelspec": {
   "display_name": "Python 3 (ipykernel)",
   "language": "python",
   "name": "python3"
  },
  "language_info": {
   "codemirror_mode": {
    "name": "ipython",
    "version": 3
   },
   "file_extension": ".py",
   "mimetype": "text/x-python",
   "name": "python",
   "nbconvert_exporter": "python",
   "pygments_lexer": "ipython3",
   "version": "3.10.6"
  }
 },
 "nbformat": 4,
 "nbformat_minor": 5
}
