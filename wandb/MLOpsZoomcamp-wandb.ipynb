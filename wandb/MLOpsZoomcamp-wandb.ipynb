{
 "cells": [
  {
   "attachments": {},
   "cell_type": "markdown",
   "metadata": {},
   "source": [
    "# MLOps Zoomcamp - Homework with Weights & Biases"
   ]
  },
  {
   "attachments": {},
   "cell_type": "markdown",
   "metadata": {},
   "source": [
    "## Question 1"
   ]
  },
  {
   "cell_type": "code",
   "execution_count": 1,
   "metadata": {},
   "outputs": [
    {
     "name": "stdout",
     "output_type": "stream",
     "text": [
      "wandb, version 0.15.3\n"
     ]
    }
   ],
   "source": [
    "!wandb --version"
   ]
  },
  {
   "attachments": {},
   "cell_type": "markdown",
   "metadata": {},
   "source": [
    "## Question 2"
   ]
  },
  {
   "cell_type": "code",
   "execution_count": 2,
   "metadata": {},
   "outputs": [
    {
     "data": {
      "text/plain": [
       "True"
      ]
     },
     "execution_count": 2,
     "metadata": {},
     "output_type": "execute_result"
    }
   ],
   "source": [
    "#Load project details\n",
    "\n",
    "import os\n",
    "from dotenv import load_dotenv\n",
    "\n",
    "load_dotenv(\"./.env/.env\")"
   ]
  },
  {
   "cell_type": "code",
   "execution_count": 3,
   "metadata": {},
   "outputs": [
    {
     "name": "stderr",
     "output_type": "stream",
     "text": [
      "wandb: Currently logged in as: angelineolapa. Use `wandb login --relogin` to force relogin\n",
      "wandb: Tracking run with wandb version 0.15.3\n",
      "wandb: Run data is saved locally in c:\\Users\\Angela\\OneDrive\\Documentos\\MLZoomcamp\\Homework\\MLOps_Zoomcamp\\H3\\wandb\\run-20230606_151758-55m29m4m\n",
      "wandb: Run `wandb offline` to turn off syncing.\n",
      "wandb: Syncing run curious-sponge-39\n",
      "wandb:  View project at https://wandb.ai/angelineolapa/MLOps-Zoomcamp\n",
      "wandb:  View run at https://wandb.ai/angelineolapa/MLOps-Zoomcamp/runs/55m29m4m\n",
      "wandb: Adding directory to artifact (.\\output)... Done. 0.0s\n",
      "wandb: Waiting for W&B process to finish... (success).\n",
      "wandb: - 0.001 MB of 0.001 MB uploaded (0.000 MB deduped)\n",
      "wandb: \\ 0.001 MB of 0.003 MB uploaded (0.000 MB deduped)\n",
      "wandb: | 0.003 MB of 0.003 MB uploaded (0.000 MB deduped)\n",
      "wandb:  View run curious-sponge-39 at: https://wandb.ai/angelineolapa/MLOps-Zoomcamp/runs/55m29m4m\n",
      "wandb: Synced 5 W&B file(s), 0 media file(s), 0 artifact file(s) and 0 other file(s)\n",
      "wandb: Find logs at: .\\wandb\\run-20230606_151758-55m29m4m\\logs\n"
     ]
    }
   ],
   "source": [
    "#Preprocess data\n",
    "\n",
    "!python preprocess_data.py \\\n",
    "--wandb_project ${WANDB_PROJECT_NAME} \\\n",
    "--wandb_entity ${WANDB_USERNAME} \\\n",
    "--raw_data_path ./data \\\n",
    "--dest_path ./output"
   ]
  },
  {
   "cell_type": "code",
   "execution_count": 4,
   "metadata": {},
   "outputs": [],
   "source": [
    "#Obtain dictvectorizer file size\n",
    "#wc \"./output/dv.pkl\""
   ]
  },
  {
   "attachments": {},
   "cell_type": "markdown",
   "metadata": {},
   "source": [
    "## Question 3"
   ]
  },
  {
   "cell_type": "code",
   "execution_count": 5,
   "metadata": {},
   "outputs": [],
   "source": [
    "#Project details \n",
    "username = os.getenv(\"WANDB_USERNAME\")\n",
    "project_name = os.getenv(\"WANDB_PROJECT_NAME\")"
   ]
  },
  {
   "cell_type": "code",
   "execution_count": 6,
   "metadata": {},
   "outputs": [
    {
     "name": "stderr",
     "output_type": "stream",
     "text": [
      "wandb: Currently logged in as: angelineolapa. Use `wandb login --relogin` to force relogin\n",
      "wandb: Tracking run with wandb version 0.15.3\n",
      "wandb: Run data is saved locally in c:\\Users\\Angela\\OneDrive\\Documentos\\MLZoomcamp\\Homework\\MLOps_Zoomcamp\\H3\\wandb\\run-20230606_151812-fshqt87k\n",
      "wandb: Run `wandb offline` to turn off syncing.\n",
      "wandb: Syncing run cool-donkey-40\n",
      "wandb:  View project at https://wandb.ai/angelineolapa/MLOps-Zoomcamp\n",
      "wandb:  View run at https://wandb.ai/angelineolapa/MLOps-Zoomcamp/runs/fshqt87k\n",
      "wandb:   4 of 4 files downloaded.  \n",
      "wandb: Waiting for W&B process to finish... (success).\n",
      "wandb: \n",
      "wandb: Run history:\n",
      "wandb: MSE ▁\n",
      "wandb: \n",
      "wandb: Run summary:\n",
      "wandb: MSE 2.45398\n",
      "wandb: \n",
      "wandb:  View run cool-donkey-40 at: https://wandb.ai/angelineolapa/MLOps-Zoomcamp/runs/fshqt87k\n",
      "wandb: Synced 5 W&B file(s), 0 media file(s), 1 artifact file(s) and 0 other file(s)\n",
      "wandb: Find logs at: .\\wandb\\run-20230606_151812-fshqt87k\\logs\n"
     ]
    }
   ],
   "source": [
    "#Train the model\n",
    "\n",
    "!python train.py \\\n",
    "--wandb_project ${WANDB_PROJECT_NAME} \\\n",
    "--wandb_entity ${WANDB_USERNAME} \\\n",
    "--data_artifact ${WANDB_DATA_ARTIFACT}"
   ]
  },
  {
   "attachments": {},
   "cell_type": "markdown",
   "metadata": {},
   "source": [
    "## Question 4"
   ]
  },
  {
   "cell_type": "code",
   "execution_count": 7,
   "metadata": {},
   "outputs": [
    {
     "name": "stdout",
     "output_type": "stream",
     "text": [
      "Create sweep with ID: ldioarsx\n",
      "Sweep URL: https://wandb.ai/angelineolapa/MLOps-Zoomcamp/sweeps/ldioarsx\n"
     ]
    },
    {
     "name": "stderr",
     "output_type": "stream",
     "text": [
      "wandb: Agent Starting Run: gigjc6yl with config:\n",
      "wandb: \tmax_depth: 14\n",
      "wandb: \tmin_samples_leaf: 2\n",
      "wandb: \tmin_samples_split: 10\n",
      "wandb: \tn_estimators: 32\n",
      "wandb: Currently logged in as: angelineolapa. Use `wandb login --relogin` to force relogin\n",
      "wandb: Tracking run with wandb version 0.15.3\n",
      "wandb: Run data is saved locally in c:\\Users\\Angela\\OneDrive\\Documentos\\MLZoomcamp\\Homework\\MLOps_Zoomcamp\\H3\\wandb\\run-20230606_151849-gigjc6yl\n",
      "wandb: Run `wandb offline` to turn off syncing.\n",
      "wandb: Syncing run playful-sweep-1\n",
      "wandb:  View project at https://wandb.ai/angelineolapa/MLOps-Zoomcamp\n",
      "wandb:  View sweep at https://wandb.ai/angelineolapa/MLOps-Zoomcamp/sweeps/ldioarsx\n",
      "wandb:  View run at https://wandb.ai/angelineolapa/MLOps-Zoomcamp/runs/gigjc6yl\n",
      "wandb:   4 of 4 files downloaded.  \n",
      "wandb: Waiting for W&B process to finish... (success).\n",
      "wandb: \n",
      "wandb: Run history:\n",
      "wandb: MSE ▁\n",
      "wandb: \n",
      "wandb: Run summary:\n",
      "wandb: MSE 2.44981\n",
      "wandb: \n",
      "wandb:  View run playful-sweep-1 at: https://wandb.ai/angelineolapa/MLOps-Zoomcamp/runs/gigjc6yl\n",
      "wandb: Synced 5 W&B file(s), 0 media file(s), 1 artifact file(s) and 0 other file(s)\n",
      "wandb: Find logs at: .\\wandb\\run-20230606_151849-gigjc6yl\\logs\n",
      "wandb: Agent Starting Run: 59qmuo1y with config:\n",
      "wandb: \tmax_depth: 13\n",
      "wandb: \tmin_samples_leaf: 3\n",
      "wandb: \tmin_samples_split: 7\n",
      "wandb: \tn_estimators: 33\n",
      "wandb: Tracking run with wandb version 0.15.3\n",
      "wandb: Run data is saved locally in c:\\Users\\Angela\\OneDrive\\Documentos\\MLZoomcamp\\Homework\\MLOps_Zoomcamp\\H3\\wandb\\run-20230606_151926-59qmuo1y\n",
      "wandb: Run `wandb offline` to turn off syncing.\n",
      "wandb: Syncing run absurd-sweep-2\n",
      "wandb:  View project at https://wandb.ai/angelineolapa/MLOps-Zoomcamp\n",
      "wandb:  View sweep at https://wandb.ai/angelineolapa/MLOps-Zoomcamp/sweeps/ldioarsx\n",
      "wandb:  View run at https://wandb.ai/angelineolapa/MLOps-Zoomcamp/runs/59qmuo1y\n",
      "wandb:   4 of 4 files downloaded.  \n",
      "wandb: Waiting for W&B process to finish... (success).\n",
      "wandb: \n",
      "wandb: Run history:\n",
      "wandb: MSE ▁\n",
      "wandb: \n",
      "wandb: Run summary:\n",
      "wandb: MSE 2.44917\n",
      "wandb: \n",
      "wandb:  View run absurd-sweep-2 at: https://wandb.ai/angelineolapa/MLOps-Zoomcamp/runs/59qmuo1y\n",
      "wandb: Synced 5 W&B file(s), 0 media file(s), 1 artifact file(s) and 0 other file(s)\n",
      "wandb: Find logs at: .\\wandb\\run-20230606_151926-59qmuo1y\\logs\n",
      "wandb: Sweep Agent: Waiting for job.\n",
      "wandb: Job received.\n",
      "wandb: Agent Starting Run: 95zghyem with config:\n",
      "wandb: \tmax_depth: 14\n",
      "wandb: \tmin_samples_leaf: 2\n",
      "wandb: \tmin_samples_split: 7\n",
      "wandb: \tn_estimators: 40\n",
      "wandb: Tracking run with wandb version 0.15.3\n",
      "wandb: Run data is saved locally in c:\\Users\\Angela\\OneDrive\\Documentos\\MLZoomcamp\\Homework\\MLOps_Zoomcamp\\H3\\wandb\\run-20230606_151957-95zghyem\n",
      "wandb: Run `wandb offline` to turn off syncing.\n",
      "wandb: Syncing run curious-sweep-3\n",
      "wandb:  View project at https://wandb.ai/angelineolapa/MLOps-Zoomcamp\n",
      "wandb:  View sweep at https://wandb.ai/angelineolapa/MLOps-Zoomcamp/sweeps/ldioarsx\n",
      "wandb:  View run at https://wandb.ai/angelineolapa/MLOps-Zoomcamp/runs/95zghyem\n",
      "wandb:   4 of 4 files downloaded.  \n",
      "wandb: Waiting for W&B process to finish... (success).\n",
      "wandb: \n",
      "wandb: Run history:\n",
      "wandb: MSE ▁\n",
      "wandb: \n",
      "wandb: Run summary:\n",
      "wandb: MSE 2.45108\n",
      "wandb: \n",
      "wandb:  View run curious-sweep-3 at: https://wandb.ai/angelineolapa/MLOps-Zoomcamp/runs/95zghyem\n",
      "wandb: Synced 5 W&B file(s), 0 media file(s), 1 artifact file(s) and 0 other file(s)\n",
      "wandb: Find logs at: .\\wandb\\run-20230606_151957-95zghyem\\logs\n",
      "wandb: Agent Starting Run: 9tgv5lvb with config:\n",
      "wandb: \tmax_depth: 11\n",
      "wandb: \tmin_samples_leaf: 3\n",
      "wandb: \tmin_samples_split: 9\n",
      "wandb: \tn_estimators: 15\n",
      "wandb: Tracking run with wandb version 0.15.3\n",
      "wandb: Run data is saved locally in c:\\Users\\Angela\\OneDrive\\Documentos\\MLZoomcamp\\Homework\\MLOps_Zoomcamp\\H3\\wandb\\run-20230606_152041-9tgv5lvb\n",
      "wandb: Run `wandb offline` to turn off syncing.\n",
      "wandb: Syncing run efficient-sweep-4\n",
      "wandb:  View project at https://wandb.ai/angelineolapa/MLOps-Zoomcamp\n",
      "wandb:  View sweep at https://wandb.ai/angelineolapa/MLOps-Zoomcamp/sweeps/ldioarsx\n",
      "wandb:  View run at https://wandb.ai/angelineolapa/MLOps-Zoomcamp/runs/9tgv5lvb\n",
      "wandb:   4 of 4 files downloaded.  \n",
      "wandb: Waiting for W&B process to finish... (success).\n",
      "wandb: \n",
      "wandb: Run history:\n",
      "wandb: MSE ▁\n",
      "wandb: \n",
      "wandb: Run summary:\n",
      "wandb: MSE 2.45077\n",
      "wandb: \n",
      "wandb:  View run efficient-sweep-4 at: https://wandb.ai/angelineolapa/MLOps-Zoomcamp/runs/9tgv5lvb\n",
      "wandb: Synced 5 W&B file(s), 0 media file(s), 1 artifact file(s) and 0 other file(s)\n",
      "wandb: Find logs at: .\\wandb\\run-20230606_152041-9tgv5lvb\\logs\n",
      "wandb: Agent Starting Run: nqr8q2n8 with config:\n",
      "wandb: \tmax_depth: 5\n",
      "wandb: \tmin_samples_leaf: 1\n",
      "wandb: \tmin_samples_split: 8\n",
      "wandb: \tn_estimators: 41\n",
      "wandb: - Waiting for wandb.init()...\n",
      "wandb: \\ Waiting for wandb.init()...\n",
      "wandb: Tracking run with wandb version 0.15.3\n",
      "wandb: Run data is saved locally in c:\\Users\\Angela\\OneDrive\\Documentos\\MLZoomcamp\\Homework\\MLOps_Zoomcamp\\H3\\wandb\\run-20230606_152106-nqr8q2n8\n",
      "wandb: Run `wandb offline` to turn off syncing.\n",
      "wandb: Syncing run brisk-sweep-5\n",
      "wandb:  View project at https://wandb.ai/angelineolapa/MLOps-Zoomcamp\n",
      "wandb:  View sweep at https://wandb.ai/angelineolapa/MLOps-Zoomcamp/sweeps/ldioarsx\n",
      "wandb:  View run at https://wandb.ai/angelineolapa/MLOps-Zoomcamp/runs/nqr8q2n8\n",
      "wandb:   4 of 4 files downloaded.  \n",
      "wandb: Waiting for W&B process to finish... (success).\n",
      "wandb: \n",
      "wandb: Run history:\n",
      "wandb: MSE ▁\n",
      "wandb: \n",
      "wandb: Run summary:\n",
      "wandb: MSE 2.46829\n",
      "wandb: \n",
      "wandb:  View run brisk-sweep-5 at: https://wandb.ai/angelineolapa/MLOps-Zoomcamp/runs/nqr8q2n8\n",
      "wandb: Synced 5 W&B file(s), 0 media file(s), 1 artifact file(s) and 0 other file(s)\n",
      "wandb: Find logs at: .\\wandb\\run-20230606_152106-nqr8q2n8\\logs\n"
     ]
    }
   ],
   "source": [
    "#Tune model hyperparameters\n",
    "\n",
    "!python sweep.py \\\n",
    "--wandb_project ${WANDB_PROJECT_NAME} \\\n",
    "--wandb_entity ${WANDB_USERNAME} \\\n",
    "--data_artifact ${WANDB_DATA_ARTIFACT}"
   ]
  }
 ],
 "metadata": {
  "kernelspec": {
   "display_name": "deployment-TYFQFDXN",
   "language": "python",
   "name": "python3"
  },
  "language_info": {
   "codemirror_mode": {
    "name": "ipython",
    "version": 3
   },
   "file_extension": ".py",
   "mimetype": "text/x-python",
   "name": "python",
   "nbconvert_exporter": "python",
   "pygments_lexer": "ipython3",
   "version": "3.9.5"
  },
  "orig_nbformat": 4
 },
 "nbformat": 4,
 "nbformat_minor": 2
}
