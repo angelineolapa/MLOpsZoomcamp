{
 "cells": [
  {
   "attachments": {},
   "cell_type": "markdown",
   "id": "fc61afa6-7ad6-46f8-b194-3f782339c45d",
   "metadata": {},
   "source": [
    "# MLOps Zoomcamp - Homework 2"
   ]
  },
  {
   "attachments": {},
   "cell_type": "markdown",
   "id": "571925a0-8cd1-46ee-a332-016eaa65c3b2",
   "metadata": {},
   "source": [
    "## Question 1"
   ]
  },
  {
   "cell_type": "code",
   "execution_count": 1,
   "id": "bb4f7dcb-1c9f-4f0a-9f4e-dd59367c7748",
   "metadata": {},
   "outputs": [
    {
     "name": "stdout",
     "output_type": "stream",
     "text": [
      "mlflow, version 2.3.2\n"
     ]
    }
   ],
   "source": [
    "# Verify mlflow version\n",
    "!mlflow --version"
   ]
  },
  {
   "attachments": {},
   "cell_type": "markdown",
   "id": "3892de77-2160-4a93-93ce-a00c9b704c60",
   "metadata": {},
   "source": [
    "## Question 2"
   ]
  },
  {
   "cell_type": "code",
   "execution_count": 2,
   "id": "01ec1f75-2493-4eba-ade0-e532792d5cdd",
   "metadata": {},
   "outputs": [],
   "source": [
    "#Pre-process data\n",
    "!python preprocess_data.py --raw_data_path ./data --dest_path ./output"
   ]
  },
  {
   "cell_type": "code",
   "execution_count": 3,
   "id": "f9ac0d7c-2e18-418c-9b3d-1d4af9f892df",
   "metadata": {},
   "outputs": [
    {
     "name": "stdout",
     "output_type": "stream",
     "text": [
      " El volumen de la unidad C es Windows-SSD\n",
      " El n�mero de serie del volumen es: 9E4D-4FE3\n",
      "\n",
      " Directorio de c:\\Users\\Angela\\OneDrive\\Documentos\\MLZoomcamp\\Homework\\MLOps_Zoomcamp\\H2\\output\n",
      "\n",
      "01/06/2023  09:04 p.�m.    <DIR>          .\n",
      "01/06/2023  09:39 p.�m.    <DIR>          ..\n",
      "01/06/2023  10:15 p.�m.           153.660 dv.pkl\n",
      "01/06/2023  08:13 a.�m.             1.759 hpo.py\n",
      "01/06/2023  10:15 p.�m.         2.632.817 test.pkl\n",
      "01/06/2023  10:15 p.�m.         2.146.163 train.pkl\n",
      "01/06/2023  10:15 p.�m.         2.336.393 val.pkl\n",
      "               5 archivos      7.270.792 bytes\n",
      "               2 dirs  737.174.532.096 bytes libres\n"
     ]
    }
   ],
   "source": [
    "#Obtain dict vectorizer file properties\n",
    "!dir \"./output\""
   ]
  },
  {
   "attachments": {},
   "cell_type": "markdown",
   "id": "19984cdb-06d0-4081-8e32-64cbbb6b70bc",
   "metadata": {},
   "source": [
    "## Question 3"
   ]
  },
  {
   "cell_type": "code",
   "execution_count": 4,
   "id": "3042a52c-f6f5-4df4-8fcc-fc38b023ab39",
   "metadata": {},
   "outputs": [],
   "source": [
    "#import MLflow\n",
    "import mlflow"
   ]
  },
  {
   "cell_type": "code",
   "execution_count": 5,
   "id": "ad55227d-049d-4fa6-9aa7-29624180de01",
   "metadata": {},
   "outputs": [
    {
     "name": "stderr",
     "output_type": "stream",
     "text": [
      "2023/06/01 22:16:15 WARNING mlflow.utils.autologging_utils: MLflow autologging encountered a warning: \"c:\\Users\\Angela\\.virtualenvs\\H2-RWA89doB\\lib\\site-packages\\_distutils_hack\\__init__.py:33: UserWarning: Setuptools is replacing distutils.\"\n"
     ]
    }
   ],
   "source": [
    "!python train.py"
   ]
  }
 ],
 "metadata": {
  "kernelspec": {
   "display_name": "Python 3 (ipykernel)",
   "language": "python",
   "name": "python3"
  },
  "language_info": {
   "codemirror_mode": {
    "name": "ipython",
    "version": 3
   },
   "file_extension": ".py",
   "mimetype": "text/x-python",
   "name": "python",
   "nbconvert_exporter": "python",
   "pygments_lexer": "ipython3",
   "version": "3.9.5"
  }
 },
 "nbformat": 4,
 "nbformat_minor": 5
}
