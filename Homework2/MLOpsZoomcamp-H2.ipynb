{
 "cells": [
  {
   "attachments": {},
   "cell_type": "markdown",
   "id": "fc61afa6-7ad6-46f8-b194-3f782339c45d",
   "metadata": {},
   "source": [
    "# MLOps Zoomcamp - Homework 2"
   ]
  },
  {
   "attachments": {},
   "cell_type": "markdown",
   "id": "571925a0-8cd1-46ee-a332-016eaa65c3b2",
   "metadata": {},
   "source": [
    "## Question 1"
   ]
  },
  {
   "cell_type": "code",
   "execution_count": 25,
   "id": "bb4f7dcb-1c9f-4f0a-9f4e-dd59367c7748",
   "metadata": {},
   "outputs": [
    {
     "name": "stdout",
     "output_type": "stream",
     "text": [
      "mlflow, version 2.3.2\n"
     ]
    }
   ],
   "source": [
    "# Verify mlflow version\n",
    "!mlflow --version"
   ]
  },
  {
   "attachments": {},
   "cell_type": "markdown",
   "id": "3892de77-2160-4a93-93ce-a00c9b704c60",
   "metadata": {},
   "source": [
    "## Question 2"
   ]
  },
  {
   "cell_type": "code",
   "execution_count": 26,
   "id": "01ec1f75-2493-4eba-ade0-e532792d5cdd",
   "metadata": {},
   "outputs": [],
   "source": [
    "#Pre-process data\n",
    "!python preprocess_data.py --raw_data_path ./data --dest_path ./output"
   ]
  },
  {
   "cell_type": "code",
   "execution_count": 27,
   "id": "f9ac0d7c-2e18-418c-9b3d-1d4af9f892df",
   "metadata": {},
   "outputs": [],
   "source": [
    "#Obtain dict vectorizer file properties\n",
    "# !dir \"./output/dv.pkl\""
   ]
  },
  {
   "attachments": {},
   "cell_type": "markdown",
   "id": "19984cdb-06d0-4081-8e32-64cbbb6b70bc",
   "metadata": {},
   "source": [
    "## Question 3"
   ]
  },
  {
   "cell_type": "code",
   "execution_count": 28,
   "id": "3042a52c-f6f5-4df4-8fcc-fc38b023ab39",
   "metadata": {},
   "outputs": [],
   "source": [
    "#import MLflow\n",
    "import mlflow"
   ]
  },
  {
   "cell_type": "code",
   "execution_count": 29,
   "id": "ad55227d-049d-4fa6-9aa7-29624180de01",
   "metadata": {},
   "outputs": [
    {
     "name": "stderr",
     "output_type": "stream",
     "text": [
      "2023/06/03 22:18:09 WARNING mlflow.utils.autologging_utils: MLflow autologging encountered a warning: \"c:\\Users\\Angela\\.virtualenvs\\H2-RWA89doB\\lib\\site-packages\\_distutils_hack\\__init__.py:33: UserWarning: Setuptools is replacing distutils.\"\n"
     ]
    }
   ],
   "source": [
    "!python train.py"
   ]
  },
  {
   "attachments": {},
   "cell_type": "markdown",
   "id": "a02c7ffe",
   "metadata": {},
   "source": [
    "## Question 4"
   ]
  },
  {
   "cell_type": "code",
   "execution_count": 30,
   "id": "40c2238f",
   "metadata": {},
   "outputs": [
    {
     "name": "stderr",
     "output_type": "stream",
     "text": [
      "[I 2023-06-03 22:18:12,474] A new study created in memory with name: no-name-bd89bbbb-e852-4363-8c1a-8eb5c66a1dcf\n",
      "[I 2023-06-03 22:18:14,850] Trial 0 finished with value: 2.451379690825458 and parameters: {'n_estimators': 25, 'max_depth': 20, 'min_samples_split': 8, 'min_samples_leaf': 3}. Best is trial 0 with value: 2.451379690825458.\n",
      "[I 2023-06-03 22:18:15,174] Trial 1 finished with value: 2.4667366020368333 and parameters: {'n_estimators': 16, 'max_depth': 4, 'min_samples_split': 2, 'min_samples_leaf': 4}. Best is trial 0 with value: 2.451379690825458.\n",
      "[I 2023-06-03 22:18:17,242] Trial 2 finished with value: 2.449827329704216 and parameters: {'n_estimators': 34, 'max_depth': 15, 'min_samples_split': 2, 'min_samples_leaf': 4}. Best is trial 2 with value: 2.449827329704216.\n",
      "[I 2023-06-03 22:18:17,995] Trial 3 finished with value: 2.460983516558473 and parameters: {'n_estimators': 44, 'max_depth': 5, 'min_samples_split': 3, 'min_samples_leaf': 1}. Best is trial 2 with value: 2.449827329704216.\n",
      "[I 2023-06-03 22:18:19,171] Trial 4 finished with value: 2.453877262701052 and parameters: {'n_estimators': 22, 'max_depth': 11, 'min_samples_split': 5, 'min_samples_leaf': 2}. Best is trial 2 with value: 2.449827329704216.\n",
      "[I 2023-06-03 22:18:19,810] Trial 5 finished with value: 2.4720122094960733 and parameters: {'n_estimators': 35, 'max_depth': 3, 'min_samples_split': 4, 'min_samples_leaf': 2}. Best is trial 2 with value: 2.449827329704216.\n",
      "[I 2023-06-03 22:18:22,291] Trial 6 finished with value: 2.4516421799356767 and parameters: {'n_estimators': 28, 'max_depth': 16, 'min_samples_split': 3, 'min_samples_leaf': 3}. Best is trial 2 with value: 2.449827329704216.\n",
      "[I 2023-06-03 22:18:22,636] Trial 7 finished with value: 2.5374040268274087 and parameters: {'n_estimators': 34, 'max_depth': 1, 'min_samples_split': 7, 'min_samples_leaf': 1}. Best is trial 2 with value: 2.449827329704216.\n",
      "[I 2023-06-03 22:18:24,037] Trial 8 finished with value: 2.455971238567075 and parameters: {'n_estimators': 12, 'max_depth': 19, 'min_samples_split': 10, 'min_samples_leaf': 4}. Best is trial 2 with value: 2.449827329704216.\n",
      "[I 2023-06-03 22:18:24,387] Trial 9 finished with value: 2.486106021576535 and parameters: {'n_estimators': 22, 'max_depth': 2, 'min_samples_split': 8, 'min_samples_leaf': 2}. Best is trial 2 with value: 2.449827329704216.\n"
     ]
    }
   ],
   "source": [
    "!python hpo.py"
   ]
  },
  {
   "attachments": {},
   "cell_type": "markdown",
   "id": "a2e710a5",
   "metadata": {},
   "source": [
    "## Question 5"
   ]
  },
  {
   "cell_type": "code",
   "execution_count": 31,
   "id": "c990bf56",
   "metadata": {},
   "outputs": [
    {
     "name": "stdout",
     "output_type": "stream",
     "text": [
      "3b15d09ab95f49ec8763554a2285eb7b\n",
      "val rmse: 2.449827329704216\n",
      "test rmse: 2.2854691906481364\n",
      "9133490944284c27be864e792fd7255e\n",
      "val rmse: 2.449827329704216\n",
      "test rmse: 2.2854691906481364\n",
      "dfa9f347b4934cc8bf102d3542b3263e\n",
      "val rmse: 2.449827329704216\n",
      "test rmse: 2.2854691906481364\n",
      "fafe52d2a31849aebd8e1c6fd478076d\n",
      "val rmse: 2.449827329704216\n",
      "test rmse: 2.2854691906481364\n",
      "f09efb0f24c84cc789e0423716c6cc38\n",
      "val rmse: 2.449827329704216\n",
      "test rmse: 2.2854691906481364\n",
      "Best run id: 3b15d09ab95f49ec8763554a2285eb7b\n"
     ]
    },
    {
     "name": "stderr",
     "output_type": "stream",
     "text": [
      "2023/06/03 22:18:38 WARNING mlflow.utils.autologging_utils: MLflow autologging encountered a warning: \"c:\\Users\\Angela\\.virtualenvs\\H2-RWA89doB\\lib\\site-packages\\_distutils_hack\\__init__.py:33: UserWarning: Setuptools is replacing distutils.\"\n",
      "Registered model 'nyc-taxi-regressor' already exists. Creating a new version of this model...\n",
      "2023/06/03 22:19:21 INFO mlflow.tracking._model_registry.client: Waiting up to 300 seconds for model version to finish creation. Model name: nyc-taxi-regressor, version 6\n",
      "Created version '6' of model 'nyc-taxi-regressor'.\n"
     ]
    }
   ],
   "source": [
    "!python register_model.py"
   ]
  }
 ],
 "metadata": {
  "kernelspec": {
   "display_name": "Python 3 (ipykernel)",
   "language": "python",
   "name": "python3"
  },
  "language_info": {
   "codemirror_mode": {
    "name": "ipython",
    "version": 3
   },
   "file_extension": ".py",
   "mimetype": "text/x-python",
   "name": "python",
   "nbconvert_exporter": "python",
   "pygments_lexer": "ipython3",
   "version": "3.9.5"
  }
 },
 "nbformat": 4,
 "nbformat_minor": 5
}
